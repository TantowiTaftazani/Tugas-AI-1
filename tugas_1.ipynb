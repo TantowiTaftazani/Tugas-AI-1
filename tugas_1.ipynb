{
  "nbformat": 4,
  "nbformat_minor": 0,
  "metadata": {
    "colab": {
      "provenance": []
    },
    "kernelspec": {
      "name": "python3",
      "display_name": "Python 3"
    },
    "language_info": {
      "name": "python"
    }
  },
  "cells": [
    {
      "cell_type": "code",
      "source": [
        "def blind_search(start, goal, graph):\n",
        "    \"\"\"\n",
        "    Fungsi untuk menjalankan algoritma blind searching\n",
        "    dan mencari jalur terpendek antara simpul awal dan simpul tujuan.\n",
        "    Args:\n",
        "        start (str): Simpul awal.\n",
        "        goal (str): Simpul tujuan.\n",
        "        graph (dict): Struktur jaringan dalam bentuk dictionary.\n",
        "    Returns:\n",
        "        list: Jalur terpendek antara simpul awal dan simpul tujuan,\n",
        "        atau None jika tidak ditemukan jalur.\n",
        "    \"\"\"\n",
        "\n",
        "    # Inisialisasi antrian dan himpunan node yang telah dikunjungi\n",
        "    queue = [[start]]\n",
        "    visited = set()\n",
        "\n",
        "    # Lakukan pencarian jalur terpendek\n",
        "    while queue:\n",
        "        path = queue.pop(0)\n",
        "        node = path[-1]\n",
        "\n",
        "        # Jika simpul yang dikunjungi sama dengan simpul tujuan, kembalikan jalur\n",
        "        if node == goal:\n",
        "            return path\n",
        "\n",
        "        # Tambahkan simpul yang bertetanggaan dengan simpul yang sedang dikunjungi ke antrian\n",
        "        # jika simpul tersebut belum dikunjungi sebelumnya\n",
        "        if node not in visited:\n",
        "            for neighbor in graph[node]:\n",
        "                new_path = list(path)\n",
        "                new_path.append(neighbor)\n",
        "                queue.append(new_path)\n",
        "\n",
        "            visited.add(node)\n",
        "\n",
        "    # Jika tidak ditemukan jalur, kembalikan None\n",
        "    return None\n",
        "\n",
        "# Contoh penggunaan program\n",
        "graph = {\n",
        "    0: [1, 3, 4],\n",
        "    1: [0, 2, 3],\n",
        "    2: [1, 3],\n",
        "    3: [0, 1, 2, 4],\n",
        "    4: [0, 3],\n",
        "}\n",
        "\n",
        "start = 0\n",
        "goal = 2\n",
        "\n",
        "result = blind_search(start, goal, graph)\n",
        "\n",
        "# Cek apakah ditemukan jalur atau tidak\n",
        "if result is None:\n",
        "    print(\"Tidak ada jalur yang ditemukan.\")\n",
        "else:\n",
        "    print(\"Jalur terpendek dari\", start, \"ke\", goal, \"adalah:\", result)"
      ],
      "metadata": {
        "colab": {
          "base_uri": "https://localhost:8080/"
        },
        "id": "R-VSZRKUUb_Y",
        "outputId": "3e2d527f-f142-44ac-b58d-461ea328d4db"
      },
      "execution_count": 2,
      "outputs": [
        {
          "output_type": "stream",
          "name": "stdout",
          "text": [
            "Jalur terpendek dari 0 ke 2 adalah: [0, 1, 2]\n"
          ]
        }
      ]
    }
  ]
}